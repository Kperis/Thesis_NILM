{
 "cells": [
  {
   "cell_type": "code",
   "execution_count": 2,
   "metadata": {},
   "outputs": [],
   "source": [
    "import pandas as pd\n",
    "import numpy as np\n",
    "import matplotlib.pyplot as plt \n",
    "import seaborn as sns\n",
    "import torch"
   ]
  },
  {
   "cell_type": "code",
   "execution_count": 19,
   "metadata": {},
   "outputs": [],
   "source": [
    "import json\n",
    "import os\n",
    "from glob import glob\n",
    "# madalena_energy = pd.read_json(\"datasets/madalena/E-145/E145-august.json\")\n",
    "\n",
    "def extract_energy_json(file_path):\n",
    "    save_path = \"datasets/madalena_processed\"\n",
    "    os.makedirs(save_path, exist_ok=True)\n",
    "\n",
    "    for house_path in os.listdir(file_path):\n",
    "        dfs = []\n",
    "        house_csv_path = house_path\n",
    "        house_path = os.path.join(file_path, house_path)\n",
    "        for file in glob(os.path.join(house_path, \"*.json\")):\n",
    "            with open(file, \"r\", encoding=\"utf-8\") as file_json:\n",
    "                data = json.load(file_json)\n",
    "\n",
    "            #because we have three phases (even though b,c seem to be 0)\n",
    "            df_a = pd.DataFrame(data[\"energy_a\"]).rename(columns={\"value\": \"energy_a\"})\n",
    "            df_b = pd.DataFrame(data[\"energy_b\"]).rename(columns={\"value\": \"energy_b\"})\n",
    "            df_c = pd.DataFrame(data[\"energy_c\"]).rename(columns={\"value\": \"energy_c\"})\n",
    "\n",
    "            df_b[\"timestamp\"] = pd.to_datetime(df_b[\"time\"])\n",
    "            df_c[\"timestamp\"] = pd.to_datetime(df_c[\"time\"])\n",
    "            df_a[\"timestamp\"] = pd.to_datetime(df_a[\"time\"])\n",
    "\n",
    "            energy_df = df_a.merge(df_b, on=\"timestamp\", how=\"inner\").merge(df_c, on=\"timestamp\", how=\"inner\")\n",
    "            #remove duplicates\n",
    "            energy_df = energy_df.loc[:, ~energy_df.columns.duplicated()]\n",
    "\n",
    "\n",
    "            energy_df[\"total_energy\"] = energy_df[\"energy_a\"] + energy_df[\"energy_b\"] + energy_df[\"energy_c\"]\n",
    "            energy_df = energy_df[[\"timestamp\", \"total_energy\"]].set_index(\"timestamp\")\n",
    "            dfs.append(energy_df)\n",
    "        df = pd.concat(dfs)\n",
    "        df.to_csv(f\"{save_path}/{house_csv_path}.csv\")\n",
    "\n",
    "extract_energy_json(\"datasets/madalena\")"
   ]
  },
  {
   "cell_type": "code",
   "execution_count": 46,
   "metadata": {},
   "outputs": [],
   "source": [
    "#get comfort metrics and concat them with energy data per house\n",
    "#energy and comfort might not start and end at exaclty the same time, so we also need to handlle that\n",
    "def merge_madalena():\n",
    "    madalena_comfort_df = pd.read_csv(\"datasets/madalena/madalena_comfort.csv\")\n",
    "    madalena_comfort_df[\"timestamp\"] = pd.to_datetime(madalena_comfort_df[\"date\"])\n",
    "    madalena_comfort_df.drop(columns=[\"date\"], inplace=True)\n",
    "    madalena_comfort_df.set_index(\"timestamp\", inplace=True)\n",
    "\n",
    "    save_dir = \"datasets/madalena_merged\"\n",
    "    os.makedirs(save_dir, exist_ok=True)\n",
    "    energy_path = \"datasets/madalena_processed\"\n",
    "\n",
    "    for file in os.listdir(energy_path):\n",
    "        madalena_energy_df = pd.read_csv(f\"{energy_path}/{file}\")\n",
    "        madalena_energy_df[\"timestamp\"] = pd.to_datetime(madalena_energy_df[\"timestamp\"])\n",
    "        madalena_energy_df.set_index(\"timestamp\", inplace=True)\n",
    "        if madalena_energy_df.index.tz is not None:\n",
    "            madalena_energy_df.index = madalena_energy_df.index.tz_convert(None)\n",
    "        madalena_energy_df = madalena_energy_df.sort_values(by=\"timestamp\")\n",
    "        house_name = file.split(\".\")[0].split(\"_\")[1]\n",
    "        house_name = f\"E{house_name}\"\n",
    "        madalena_comfort_house = madalena_comfort_df[madalena_comfort_df[\"Room\"] == house_name].copy()\n",
    "        madalena_comfort_house.drop(columns=[\"Room\"], inplace=True)\n",
    "        \n",
    "        start_time = max(madalena_energy_df.index.min(), madalena_comfort_house.index.min())\n",
    "        end_time = min(madalena_energy_df.index.max(), madalena_comfort_house.index.max())\n",
    "\n",
    "        madalena_energy_df = madalena_energy_df.loc[start_time:end_time]\n",
    "        madalena_comfort_house = madalena_comfort_house.loc[start_time:end_time]\n",
    "\n",
    "        madalena_merged_df = madalena_energy_df.merge(madalena_comfort_house, left_index=True, right_index=True, how=\"inner\")\n",
    "        madalena_merged_df.to_csv(f\"{save_dir}/{house_name}.csv\")\n",
    "\n",
    "merge_madalena()"
   ]
  }
 ],
 "metadata": {
  "kernelspec": {
   "display_name": "Python 3",
   "language": "python",
   "name": "python3"
  },
  "language_info": {
   "codemirror_mode": {
    "name": "ipython",
    "version": 3
   },
   "file_extension": ".py",
   "mimetype": "text/x-python",
   "name": "python",
   "nbconvert_exporter": "python",
   "pygments_lexer": "ipython3",
   "version": "3.12.8"
  }
 },
 "nbformat": 4,
 "nbformat_minor": 2
}
