{
 "cells": [
  {
   "cell_type": "code",
   "execution_count": null,
   "metadata": {
    "vscode": {
     "languageId": "plaintext"
    }
   },
   "outputs": [],
   "source": [
    "import pandas as pd\n",
    "\n",
    "# Load datasets (already loaded in previous step)\n",
    "\n",
    "# Convert timestamp to datetime\n",
    "korean_df[\"timestamp\"] = pd.to_datetime(korean_df[\"timestamp\"])\n",
    "madalena_df[\"timestamp\"] = pd.to_datetime(madalena_df[\"timestamp\"])\n",
    "\n",
    "# Ensure house_id is consistent in both datasets\n",
    "korean_df[\"house_id\"] = korean_df[\"house_id\"].astype(str)\n",
    "madalena_df[\"house_id\"] = madalena_df[\"house_id\"].astype(str)\n",
    "\n",
    "# Drop unnecessary columns\n",
    "if \"Unnamed: 0\" in madalena_df.columns:\n",
    "    madalena_df.drop(columns=[\"Unnamed: 0\"], inplace=True)\n",
    "\n",
    "# Ensure numeric columns are properly formatted\n",
    "for col in korean_df.columns:\n",
    "    if col not in [\"timestamp\", \"house_id\"]:\n",
    "        korean_df[col] = pd.to_numeric(korean_df[col], errors='coerce')\n",
    "\n",
    "for col in madalena_df.columns:\n",
    "    if col not in [\"timestamp\", \"house_id\"]:\n",
    "        madalena_df[col] = pd.to_numeric(madalena_df[col], errors='coerce')\n",
    "\n",
    "# Display the first few rows of both datasets after preprocessing\n",
    "korean_df.head(), madalena_df.head()\n"
   ]
  }
 ],
 "metadata": {
  "language_info": {
   "name": "python"
  }
 },
 "nbformat": 4,
 "nbformat_minor": 2
}
